{
 "cells": [
  {
   "cell_type": "code",
   "execution_count": 1,
   "metadata": {},
   "outputs": [],
   "source": [
    "from ipywidgets import interact\n"
   ]
  },
  {
   "cell_type": "code",
   "execution_count": 2,
   "metadata": {},
   "outputs": [],
   "source": [
    "def square(x):\n",
    "    return x * x"
   ]
  },
  {
   "cell_type": "code",
   "execution_count": 3,
   "metadata": {},
   "outputs": [
    {
     "data": {
      "application/vnd.jupyter.widget-view+json": {
       "model_id": "ba2430f4e59541298b656f8ec94fb085",
       "version_major": 2,
       "version_minor": 0
      },
      "text/plain": [
       "interactive(children=(IntSlider(value=10, description='x', max=30, min=-10), Output()), _dom_classes=('widget-…"
      ]
     },
     "metadata": {},
     "output_type": "display_data"
    }
   ],
   "source": [
    "interact(square, x=10);\n"
   ]
  },
  {
   "cell_type": "code",
   "execution_count": 4,
   "metadata": {},
   "outputs": [
    {
     "data": {
      "application/vnd.jupyter.widget-view+json": {
       "model_id": "c552b6279a4e4da98c907af7ca205be9",
       "version_major": 2,
       "version_minor": 0
      },
      "text/plain": [
       "interactive(children=(IntSlider(value=50, description='x', step=10), Output()), _dom_classes=('widget-interact…"
      ]
     },
     "metadata": {},
     "output_type": "display_data"
    }
   ],
   "source": [
    "interact(square, x=(0, 100, 10));\n"
   ]
  },
  {
   "cell_type": "code",
   "execution_count": 5,
   "metadata": {},
   "outputs": [],
   "source": [
    "def friends(name, number):\n",
    "    return '{} has {} friends!'.format(name, number)"
   ]
  },
  {
   "cell_type": "code",
   "execution_count": 6,
   "metadata": {},
   "outputs": [
    {
     "data": {
      "application/vnd.jupyter.widget-view+json": {
       "model_id": "3f9a2c06c6eb4a7aaeb93f6c23249dad",
       "version_major": 2,
       "version_minor": 0
      },
      "text/plain": [
       "interactive(children=(Text(value='Sam', description='name'), IntSlider(value=7, description='number', max=10, …"
      ]
     },
     "metadata": {},
     "output_type": "display_data"
    }
   ],
   "source": [
    "interact(friends, name='Sam', number=(5, 10));\n"
   ]
  },
  {
   "cell_type": "code",
   "execution_count": 7,
   "metadata": {},
   "outputs": [
    {
     "data": {
      "application/vnd.jupyter.widget-view+json": {
       "model_id": "99e7941450c94a3394051fb5871175a3",
       "version_major": 2,
       "version_minor": 0
      },
      "text/plain": [
       "interactive(children=(Text(value='Sam', description='name'), Dropdown(description='number', options={'One': 1,…"
      ]
     },
     "metadata": {},
     "output_type": "display_data"
    }
   ],
   "source": [
    "interact(friends, name='Sam', number={'One': 1, 'Five': 5, 'Ten': 10});\n"
   ]
  },
  {
   "cell_type": "code",
   "execution_count": 9,
   "metadata": {},
   "outputs": [],
   "source": [
    "from ipywidgets import interact\n",
    "import numpy as np\n",
    "import random\n",
    "\n",
    "PRIZES = ['Car', 'Goat 1', 'Goat 2']\n",
    "\n",
    "def monty_hall(example_num=0):\n",
    "    '''\n",
    "    Simulates one round of the Monty Hall Problem. Outputs a tuple of\n",
    "    (result if stay, result if switch, result behind opened door) where\n",
    "    each results is one of PRIZES.\n",
    "    '''\n",
    "    pick = random.choice(PRIZES)\n",
    "    opened = random.choice(\n",
    "        [p for p in PRIZES if p != pick and p != 'Car']\n",
    "    )\n",
    "    remainder = next(p for p in PRIZES if p != pick and p != opened)\n",
    "    return (pick, remainder, opened)"
   ]
  },
  {
   "cell_type": "code",
   "execution_count": 10,
   "metadata": {},
   "outputs": [
    {
     "data": {
      "application/vnd.jupyter.widget-view+json": {
       "model_id": "fe925709e5a5485eb641f2f3f0b08e62",
       "version_major": 2,
       "version_minor": 0
      },
      "text/plain": [
       "interactive(children=(IntSlider(value=0, description='example_num'), Output()), _dom_classes=('widget-interact…"
      ]
     },
     "metadata": {},
     "output_type": "display_data"
    }
   ],
   "source": [
    "interact(monty_hall, example_num=(0, 100));\n"
   ]
  },
  {
   "cell_type": "code",
   "execution_count": 11,
   "metadata": {},
   "outputs": [
    {
     "data": {
      "application/vnd.jupyter.widget-view+json": {
       "model_id": "acd95127b0e74935b564eb3e4d1e55c6",
       "version_major": 2,
       "version_minor": 0
      },
      "text/plain": [
       "interactive(children=(IntSlider(value=0, description='example_num'), Output()), _dom_classes=('widget-interact…"
      ]
     },
     "metadata": {},
     "output_type": "display_data"
    }
   ],
   "source": [
    "def winner(example_num=0):\n",
    "    '''\n",
    "    Plays a game of Monty Hall. If staying with the original door wins\n",
    "    a car, return 'stay'. Otherwise, the remaining door contains the car\n",
    "    so 'switch' would have won.\n",
    "    '''\n",
    "    picked, _, _ = monty_hall()\n",
    "    return 'stay' if picked == 'Car' else 'switch'\n",
    "\n",
    "interact(winner, example_num=(0, 100));"
   ]
  },
  {
   "cell_type": "code",
   "execution_count": 12,
   "metadata": {},
   "outputs": [
    {
     "data": {
      "application/vnd.jupyter.widget-view+json": {
       "model_id": "1c0bd0de68bd406c8baf4ac3c3a67008",
       "version_major": 2,
       "version_minor": 0
      },
      "text/plain": [
       "VBox(children=(interactive(children=(Output(),), _dom_classes=('widget-interact',)), Figure(axes=[Axis(scale=O…"
      ]
     },
     "metadata": {},
     "output_type": "display_data"
    }
   ],
   "source": [
    "import nbinteract as nbi\n",
    "\n",
    "nbi.bar(['a', 'b'], [4, 6])"
   ]
  },
  {
   "cell_type": "code",
   "execution_count": 13,
   "metadata": {},
   "outputs": [
    {
     "data": {
      "application/vnd.jupyter.widget-view+json": {
       "model_id": "a663805a416b46e496d0ae6585b6b503",
       "version_major": 2,
       "version_minor": 0
      },
      "text/plain": [
       "VBox(children=(interactive(children=(IntSlider(value=4, description='n', max=7, min=1), IntSlider(value=5, des…"
      ]
     },
     "metadata": {},
     "output_type": "display_data"
    }
   ],
   "source": [
    "# This function generates the x-values\n",
    "def categories(n):\n",
    "    return list('abcdefg')[:n]\n",
    "\n",
    "# This function generates the y-values (heights of bars)\n",
    "# The y response function always takes in the x-values as its\n",
    "# first argument\n",
    "def offset_y(xs, offset):\n",
    "    num_categories = len(xs)\n",
    "    return np.arange(num_categories) + offset\n",
    "\n",
    "# Each argument of the response functions is passed in as a keyword\n",
    "# argument to `nbi.bar` in the same format as `interact`\n",
    "nbi.bar(categories, offset_y, n=(1, 7), offset=(0, 10))"
   ]
  },
  {
   "cell_type": "code",
   "execution_count": 14,
   "metadata": {},
   "outputs": [
    {
     "data": {
      "application/vnd.jupyter.widget-view+json": {
       "model_id": "5f44682043034a9fb21aa6511f750946",
       "version_major": 2,
       "version_minor": 0
      },
      "text/plain": [
       "VBox(children=(interactive(children=(IntSlider(value=500, description='num_games', max=1000, min=1), Output())…"
      ]
     },
     "metadata": {},
     "output_type": "display_data"
    }
   ],
   "source": [
    "categories = ['stay', 'switch']\n",
    "\n",
    "winners = [winner() for _ in range(1000)]\n",
    "\n",
    "# Note that the the first argument to the y response function\n",
    "# will be the x-values which we don't need\n",
    "def won(_, num_games):\n",
    "    '''\n",
    "    Outputs a 2-tuple of the number of times each strategy won\n",
    "    after num_games games.\n",
    "    '''\n",
    "    return (winners[:num_games].count('stay'),\n",
    "            winners[:num_games].count('switch'))\n",
    "\n",
    "nbi.bar(categories, won, num_games=(1, 1000))"
   ]
  },
  {
   "cell_type": "code",
   "execution_count": 15,
   "metadata": {},
   "outputs": [
    {
     "data": {
      "application/vnd.jupyter.widget-view+json": {
       "model_id": "6715e8e3f3414803b4ddc5e07e454c82",
       "version_major": 2,
       "version_minor": 0
      },
      "text/plain": [
       "VBox(children=(interactive(children=(IntSlider(value=500, description='num_games', max=1000, min=1), Output())…"
      ]
     },
     "metadata": {},
     "output_type": "display_data"
    }
   ],
   "source": [
    "options = {\n",
    "    'title': 'Number of times each strategy wins',\n",
    "    'xlabel': 'Strategy',\n",
    "    'ylabel': 'Number of wins',\n",
    "    'ylim': (0, 700),\n",
    "}\n",
    "\n",
    "nbi.bar(categories, won, options=options, num_games=(1, 1000))"
   ]
  },
  {
   "cell_type": "code",
   "execution_count": 17,
   "metadata": {},
   "outputs": [
    {
     "data": {
      "application/vnd.jupyter.widget-view+json": {
       "model_id": "f23dff18d21442dca1af7647c1487640",
       "version_major": 2,
       "version_minor": 0
      },
      "text/plain": [
       "VBox(children=(interactive(children=(Play(value=0, description='num_games', interval=17, max=1000, step=10), O…"
      ]
     },
     "metadata": {},
     "output_type": "display_data"
    }
   ],
   "source": [
    "from ipywidgets import Play\n",
    "\n",
    "nbi.bar(categories, won, options=options,\n",
    "        num_games=Play(min=0, max=1000, step=10, value=0, interval=17))\n"
   ]
  },
  {
   "cell_type": "code",
   "execution_count": 18,
   "metadata": {},
   "outputs": [
    {
     "data": {
      "application/vnd.jupyter.widget-view+json": {
       "model_id": "5738cc9b0da34900b0ccfcbd9b575142",
       "version_major": 2,
       "version_minor": 0
      },
      "text/plain": [
       "interactive(children=(IntSlider(value=55, description='sample_size', min=10), Output()), _dom_classes=('widget…"
      ]
     },
     "metadata": {},
     "output_type": "display_data"
    }
   ],
   "source": [
    "def prop_wins(sample_size):\n",
    "    '''Returns proportion of times switching wins after sample_size games.'''\n",
    "    return sum(winner() == 'switch' for _ in range(sample_size)) / sample_size\n",
    "\n",
    "interact(prop_wins, sample_size=(10, 100));"
   ]
  },
  {
   "cell_type": "code",
   "execution_count": null,
   "metadata": {},
   "outputs": [],
   "source": []
  }
 ],
 "metadata": {
  "kernelspec": {
   "display_name": "Python 3",
   "language": "python",
   "name": "python3"
  },
  "language_info": {
   "codemirror_mode": {
    "name": "ipython",
    "version": 3
   },
   "file_extension": ".py",
   "mimetype": "text/x-python",
   "name": "python",
   "nbconvert_exporter": "python",
   "pygments_lexer": "ipython3",
   "version": "3.6.6"
  }
 },
 "nbformat": 4,
 "nbformat_minor": 2
}
